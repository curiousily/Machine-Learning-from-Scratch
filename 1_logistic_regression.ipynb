# perfect job
{
  "nbformat": 4,
  "nbformat_minor": 0,
  "metadata": {
    "colab": {
      "name": "1.logistic_regression_final.ipynb",
      "version": "0.3.2",
      "provenance": [],
      "collapsed_sections": []
    },
    "kernelspec": {
      "name": "python3",
      "display_name": "Python 3"
    },
    "accelerator": "GPU"
  },
  "cells": [
    {
      "cell_type": "code",
      "metadata": {
        "id": "GMkVuv4djG4x",
        "colab_type": "code",
        "colab": {}
      },
      "source": [
        "import numpy as np\n",
        "import pandas as pd\n",
        "import seaborn as sns\n",
        "from pylab import rcParams\n",
        "import matplotlib.pyplot as plt\n",
        "from collections import OrderedDict\n",
        "from scipy.special import expit\n",
        "import unittest\n",
        "\n",
        "%matplotlib inline\n",
        "\n",
        "sns.set(style='whitegrid', palette='muted', font_scale=1.5)\n",
        "\n",
        "rcParams['figure.figsize'] = 14, 8\n",
        "\n",
        "RANDOM_SEED = 42\n",
        "\n",
        "np.random.seed(RANDOM_SEED)\n",
        "\n",
        "def run_tests():\n",
        "  unittest.main(argv=[''], verbosity=1, exit=False)"
      ],
      "execution_count": 0,
      "outputs": []
    },
    {
      "cell_type": "markdown",
      "metadata": {
        "id": "V-I1L92c1Dno",
        "colab_type": "text"
      },
      "source": [
        "# Your data"
      ]
    },
    {
      "cell_type": "code",
      "metadata": {
        "id": "0WFneRgf2NGQ",
        "colab_type": "code",
        "colab": {}
      },
      "source": [
        "data = OrderedDict(\n",
        "        amount_spent =  [50,  10, 20, 5,  95,  70,  100,  200, 0],\n",
        "        send_discount = [0,   1,  1,  1,  0,   0,   0,    0,   1]\n",
        "    )"
      ],
      "execution_count": 0,
      "outputs": []
    },
    {
      "cell_type": "code",
      "metadata": {
        "id": "Qg_P_LCv6kFZ",
        "colab_type": "code",
        "outputId": "541955cd-a5c6-4b1f-f974-679e7b39e9d9",
        "colab": {
          "base_uri": "https://localhost:8080/",
          "height": 328
        }
      },
      "source": [
        "df = pd.DataFrame.from_dict(data)\n",
        "df"
      ],
      "execution_count": 0,
      "outputs": [
        {
          "output_type": "execute_result",
          "data": {
            "text/html": [
              "<div>\n",
              "<style scoped>\n",
              "    .dataframe tbody tr th:only-of-type {\n",
              "        vertical-align: middle;\n",
              "    }\n",
              "\n",
              "    .dataframe tbody tr th {\n",
              "        vertical-align: top;\n",
              "    }\n",
              "\n",
              "    .dataframe thead th {\n",
              "        text-align: right;\n",
              "    }\n",
              "</style>\n",
              "<table border=\"1\" class=\"dataframe\">\n",
              "  <thead>\n",
              "    <tr style=\"text-align: right;\">\n",
              "      <th></th>\n",
              "      <th>amount_spent</th>\n",
              "      <th>send_discount</th>\n",
              "    </tr>\n",
              "  </thead>\n",
              "  <tbody>\n",
              "    <tr>\n",
              "      <th>0</th>\n",
              "      <td>50</td>\n",
              "      <td>0</td>\n",
              "    </tr>\n",
              "    <tr>\n",
              "      <th>1</th>\n",
              "      <td>10</td>\n",
              "      <td>1</td>\n",
              "    </tr>\n",
              "    <tr>\n",
              "      <th>2</th>\n",
              "      <td>20</td>\n",
              "      <td>1</td>\n",
              "    </tr>\n",
              "    <tr>\n",
              "      <th>3</th>\n",
              "      <td>5</td>\n",
              "      <td>1</td>\n",
              "    </tr>\n",
              "    <tr>\n",
              "      <th>4</th>\n",
              "      <td>95</td>\n",
              "      <td>0</td>\n",
              "    </tr>\n",
              "    <tr>\n",
              "      <th>5</th>\n",
              "      <td>70</td>\n",
              "      <td>0</td>\n",
              "    </tr>\n",
              "    <tr>\n",
              "      <th>6</th>\n",
              "      <td>100</td>\n",
              "      <td>0</td>\n",
              "    </tr>\n",
              "    <tr>\n",
              "      <th>7</th>\n",
              "      <td>200</td>\n",
              "      <td>0</td>\n",
              "    </tr>\n",
              "    <tr>\n",
              "      <th>8</th>\n",
              "      <td>0</td>\n",
              "      <td>1</td>\n",
              "    </tr>\n",
              "  </tbody>\n",
              "</table>\n",
              "</div>"
            ],
            "text/plain": [
              "   amount_spent  send_discount\n",
              "0            50              0\n",
              "1            10              1\n",
              "2            20              1\n",
              "3             5              1\n",
              "4            95              0\n",
              "5            70              0\n",
              "6           100              0\n",
              "7           200              0\n",
              "8             0              1"
            ]
          },
          "metadata": {
            "tags": []
          },
          "execution_count": 3
        }
      ]
    },
    {
      "cell_type": "code",
      "metadata": {
        "id": "qOw7gRk48G2A",
        "colab_type": "code",
        "outputId": "b0954f17-2b85-4cfb-e17a-59999a2427d8",
        "colab": {
          "base_uri": "https://localhost:8080/",
          "height": 506
        }
      },
      "source": [
        "df.plot.scatter(x='amount_spent', y='send_discount', s=108, c=\"blue\");"
      ],
      "execution_count": 0,
      "outputs": [
        {
          "output_type": "display_data",
          "data": {
            "image/png": "[encoded data removed]",
            "text/plain": [
              "<Figure size 1008x576 with 1 Axes>"
            ]
          },
          "metadata": {
            "tags": []
          }
        }
      ]
    },
    {
      "cell_type": "markdown",
      "metadata": {
        "id": "OAly_VfNEtiQ",
        "colab_type": "text"
      },
      "source": [
        "# Making decisions with Logistic regression\n",
        "\n",
        "Logistic regression is used for classification problems when the dependant/target variable is binary. That is, its values are true or false. Logistic regression is one of the most popular and widely used algorithms in practice ([see this](https://www.kaggle.com/surveys/2017)).\n",
        "\n",
        "Some examples for problems that can be solved with Logistic regression are:\n",
        "\n",
        "- Email - deciding if it is spam or not\n",
        "- Online transactions - fraudelent or not\n",
        "- Tumor - malignant or bening\n",
        "- Customer upgrade - will the customer buy the premium upgrade or not\n",
        "\n",
        "We want to predict the outcome of a variable $y$, such that:\n",
        "\n",
        "$$y \\in \\{0, 1\\}$$\n",
        "\n",
        "and set $0$: negative class (e.g. email is not spam) or $1$: positive class (e.g. email is spam).\n",
        "\n",
        "## Can't we just use Linear regression?\n",
        "\n",
        "![](https://www.machinelearningplus.com/wp-content/uploads/2017/09/linear_vs_logistic_regression.jpg)\n",
        "\n",
        "The response target variable $y$ of the Linear regression model is not restricted within the $[0, 1]$ interval."
      ]
    },
    {
      "cell_type": "markdown",
      "metadata": {
        "id": "xCclnDlvYxbY",
        "colab_type": "text"
      },
      "source": [
        "# Logistic regression model\n",
        "\n",
        "Given our problem, we want a model that uses 1 variable (predictor) ($x_1$ - amount_spent) to predict whether or not we should send a discount to the customer.\n",
        "\n",
        "$$h_w(x) = w_1x_1 + w_0$$\n",
        "\n",
        "where the coefficients $w_i$ are paramaters of the model. Let the coeffiecient vector $W$ be:\n",
        "\n",
        "$$\n",
        "   W =\n",
        "    \\begin{pmatrix}\n",
        "    w_1 \\\\\n",
        "    w_0 \\\\\n",
        "    \\end{pmatrix}\n",
        "$$\n",
        "\n",
        "Then we can represent $h_w(x)$ in more compact form:\n",
        "\n",
        "$$h_w(x) = w^Tx$$\n",
        "\n",
        "That is the *Linear regression model*.\n",
        "\n",
        "We want to build a model that outputs values that are between $0$ and $1$, so we want to come up with a hypothesis that satisfies $0 \\leq h_w(x) \\leq 1$. For *Logistic regression* we want to modify this and introduce another function $g$:\n",
        "\n",
        "$$h_w(x) = g(w^Tx)$$\n",
        "\n",
        "We're going to define $g$ as:\n",
        "\n",
        "$$g(z) = \\frac{1}{1 + e ^{-z}}$$\n",
        "\n",
        "where $z \\in \\mathbb{R}$. $g$ is also known as the **sigmoid function** or the **logistic function**. So, after substition, we end up with this definition:\n",
        "\n",
        "$$h_w(x) = \\frac{1}{1 + e ^{-(w^Tx)}}$$\n",
        "\n",
        "for our hypothesis.\n",
        "\n",
        "# A closer look at the sigmoid function\n",
        "\n",
        "Recall that the sigmoid function is defined as:\n",
        "\n",
        "$$g(z) = \\frac{1}{1 + e ^{-z}}$$\n",
        "\n",
        "where $z \\in \\mathbb{R}$. Let's translate that to a Python function:"
      ]
    },
    {
      "cell_type": "code",
      "metadata": {
        "id": "nIU1rj4OjJf_",
        "colab_type": "code",
        "colab": {}
      },
      "source": [
        "def sigmoid(z):\n",
        "#   return 1 / (1 + np.exp(-z))\n",
        "  return expit(z)\n"
      ],
      "execution_count": 0,
      "outputs": []
    },
    {
      "cell_type": "code",
      "metadata": {
        "id": "RW5HT9yhlph2",
        "colab_type": "code",
        "colab": {}
      },
      "source": [
        "class TestSigmoid(unittest.TestCase):\n",
        "\n",
        "    def test_at_zero(self):\n",
        "      self.assertAlmostEqual(sigmoid(0), 0.5)\n",
        "        \n",
        "    def test_at_negative(self):\n",
        "      self.assertAlmostEqual(sigmoid(-100), 0)\n",
        "        \n",
        "    def test_at_positive(self):\n",
        "      self.assertAlmostEqual(sigmoid(100), 1)"
      ],
      "execution_count": 0,
      "outputs": []
    },
    {
      "cell_type": "code",
      "metadata": {
        "id": "Esx-TA91nmVN",
        "colab_type": "code",
        "outputId": "69c570ba-0053-417d-f747-18c6fae4fe3f",
        "colab": {
          "base_uri": "https://localhost:8080/",
          "height": 102
        }
      },
      "source": [
        "run_tests()"
      ],
      "execution_count": 0,
      "outputs": [
        {
          "output_type": "stream",
          "text": [
            "...\n",
            "----------------------------------------------------------------------\n",
            "Ran 3 tests in 0.006s\n",
            "\n",
            "OK\n"
          ],
          "name": "stderr"
        }
      ]
    },
    {
      "cell_type": "code",
      "metadata": {
        "id": "MVgCLBecoQIn",
        "colab_type": "code",
        "outputId": "60b66394-95ab-47bf-f9f6-a322721f8784",
        "colab": {
          "base_uri": "https://localhost:8080/",
          "height": 506
        }
      },
      "source": [
        "x = np.linspace(-10., 10., num=100)\n",
        "sig = sigmoid(x)\n",
        "\n",
        "plt.plot(x, sig, label=\"sigmoid\")\n",
        "plt.xlabel(\"x\")\n",
        "plt.ylabel(\"y\")\n",
        "plt.legend(prop={'size' : 16})\n",
        "plt.show()"
      ],
      "execution_count": 0,
      "outputs": [
        {
          "output_type": "display_data",
          "data": {
            "image/png": "[encoded data removed]",
            "text/plain": [
              "<Figure size 1008x576 with 1 Axes>"
            ]
          },
          "metadata": {
            "tags": []
          }
        }
      ]
    },
    {
      "cell_type": "markdown",
      "metadata": {
        "id": "1wNwylPKQ-SQ",
        "colab_type": "text"
      },
      "source": [
        "# How can we find the parameters for our model?\n",
        "\n",
        "Let's examine some approaches to find good parameters for our model. But what does good mean in this context?\n",
        "\n",
        "## Loss function\n",
        "\n",
        "We have a model that we can use to make decisions, but we still have to find the parameters $W$. To do that, we need an objective measurement of how good some set of parameters are. For that purpose, we will use a loss (cost) function:\n",
        "\n",
        "$$J(W) = \\frac{1}{m}\\sum^m_{i = 1}Cost(h_w(x^{(i)}), y^{(i)})$$\n",
        "\n",
        "$$\n",
        "    Cost(h_w(x), y) = \n",
        "    \\begin{cases} \n",
        "    -log(h_w(x)) &\\text{if} y = 1\\\\\n",
        "    -log(1 - h_w(x)) &\\text{if} y = 0\n",
        "    \\end{cases}\n",
        "$$\n",
        "\n",
        "Which is also known as the [*Log loss* or *Cross-entropy loss*](https://ml-cheatsheet.readthedocs.io/en/latest/loss_functions.html) function\n",
        "\n",
        "![](https://ml-cheatsheet.readthedocs.io/en/latest/_images/y1andy2_logistic_function.png)\n",
        "\n",
        "We can compress the above function into one:\n",
        "\n",
        "$$J(W) = \\frac{1}{m}(-y \\log{(h_w)} - (1 - y) \\log{(1 - h_w)})$$\n",
        "\n",
        "where\n",
        "\n",
        "$$h_w(x) = g(w^Tx)$$\n",
        "\n",
        "Let's implement it in Python:"
      ]
    },
    {
      "cell_type": "code",
      "metadata": {
        "id": "oIeiJSugk4qB",
        "colab_type": "code",
        "colab": {}
      },
      "source": [
        "def loss(h, y):\n",
        "  return (-y * np.log(h) - (1 - y) * np.log(1 - h)).mean()"
      ],
      "execution_count": 0,
      "outputs": []
    },
    {
      "cell_type": "code",
      "metadata": {
        "id": "Vyzx34TDoBoB",
        "colab_type": "code",
        "colab": {}
      },
      "source": [
        "class TestLoss(unittest.TestCase):\n",
        "\n",
        "  def test_zero_h_zero_y(self):\n",
        "    self.assertLess(loss(h=0.000001, y=.000001), 0.0001)\n",
        "\n",
        "  def test_one_h_zero_y(self):\n",
        "    self.assertGreater(loss(h=0.9999, y=.000001), 9.0)\n",
        "\n",
        "  def test_zero_h_one_y(self):\n",
        "    self.assertGreater(loss(h=0.000001, y=0.9999), 9.0)\n",
        "\n",
        "  def test_one_h_one_y(self):\n",
        "    self.assertLess(loss(h=0.999999, y=0.999999), 0.0001)"
      ],
      "execution_count": 0,
      "outputs": []
    },
    {
      "cell_type": "code",
      "metadata": {
        "id": "wd6-FSTPoIsV",
        "colab_type": "code",
        "outputId": "1e84d7ce-fdb3-49fe-bfdd-3a11cb4216a1",
        "colab": {
          "base_uri": "https://localhost:8080/",
          "height": 102
        }
      },
      "source": [
        "run_tests()"
      ],
      "execution_count": 0,
      "outputs": [
        {
          "output_type": "stream",
          "text": [
            ".......\n",
            "----------------------------------------------------------------------\n",
            "Ran 7 tests in 0.010s\n",
            "\n",
            "OK\n"
          ],
          "name": "stderr"
        }
      ]
    },
    {
      "cell_type": "markdown",
      "metadata": {
        "id": "AHL3KqF7Rfvf",
        "colab_type": "text"
      },
      "source": [
        "## Approach \\#1 - I'm thinking of a number(s)\n",
        "\n",
        "Let's think of 3 numbers that represent the coefficients $w_0, w_1, w_2$."
      ]
    },
    {
      "cell_type": "code",
      "metadata": {
        "id": "sWKZ-4x8SP_b",
        "colab_type": "code",
        "outputId": "af2000b9-d95a-42b7-a2fd-748cdb580f91",
        "colab": {
          "base_uri": "https://localhost:8080/",
          "height": 34
        }
      },
      "source": [
        "X = df['amount_spent'].astype('float').values\n",
        "y = df['send_discount'].astype('float').values\n",
        "\n",
        "def predict(x, w):\n",
        "  return sigmoid(x * w)\n",
        "\n",
        "def print_result(y_hat, y):\n",
        "  print(f'loss: {np.round(loss(y_hat, y), 5)} predicted: {y_hat} actual: {y}')\n",
        "  \n",
        "y_hat = predict(x=X[0], w=.5)\n",
        "print_result(y_hat, y[0])"
      ],
      "execution_count": 0,
      "outputs": [
        {
          "output_type": "stream",
          "text": [
            "loss: 25.0 predicted: 0.999999999986112 actual: 0.0\n"
          ],
          "name": "stdout"
        }
      ]
    },
    {
      "cell_type": "markdown",
      "metadata": {
        "id": "OI1PYdiNTqhu",
        "colab_type": "text"
      },
      "source": [
        "I am pretty lazy this approach seems like too much hard work for me.\n",
        "\n",
        "## Approach \\#2 - Try out many numbers\n",
        "\n",
        "Alright, these days computers are pretty fast, 6+ core laptops are everywhere also your phones can are pretty performant, too! Let's use that power for good™ and try to find these parameters by just trying out a lot of numbers:"
      ]
    },
    {
      "cell_type": "code",
      "metadata": {
        "id": "9kTZ4F2qhyHC",
        "colab_type": "code",
        "outputId": "bb11ea57-5ec2-4a9f-ec35-e3825d681762",
        "colab": {
          "base_uri": "https://localhost:8080/",
          "height": 391
        }
      },
      "source": [
        "for w in np.arange(-1, 1, 0.1):\n",
        "  y_hat = predict(x=X[0], w=w)\n",
        "  print(loss(y_hat, y[0]))"
      ],
      "execution_count": 0,
      "outputs": [
        {
          "output_type": "stream",
          "text": [
            "0.0\n",
            "0.0\n",
            "0.0\n",
            "6.661338147750941e-16\n",
            "9.359180097590508e-14\n",
            "1.3887890837434982e-11\n",
            "2.0611535832696244e-09\n",
            "3.059022736706331e-07\n",
            "4.539889921682063e-05\n",
            "0.006715348489118056\n",
            "0.6931471805599397\n",
            "5.006715348489103\n",
            "10.000045398900186\n",
            "15.000000305680194\n",
            "19.999999966169824\n",
            "24.99999582410784\n",
            "30.001020555434774\n",
            "34.945041100449046\n",
            "inf\n",
            "inf\n"
          ],
          "name": "stdout"
        },
        {
          "output_type": "stream",
          "text": [
            "/usr/local/lib/python3.6/dist-packages/ipykernel_launcher.py:2: RuntimeWarning: divide by zero encountered in log\n",
            "  \n"
          ],
          "name": "stderr"
        }
      ]
    },
    {
      "cell_type": "markdown",
      "metadata": {
        "id": "xvnblS0UzG5E",
        "colab_type": "text"
      },
      "source": [
        "## Approach \\#3 - Gradient descent\n",
        "\n",
        "Gradient descent algorithms (yes, there are a lot of them) provide us with a way to find a minimum of some function $f$. They work by iteratively going in the direction of the descent as defined by the gradient.\n",
        "\n",
        "In Machine Learning, we use gradient descent algorithms to find \"good\" parameters for our models (Logistic Regression, Linear Regression, Neural Networks, etc...).\n",
        "\n",
        "![](https://i.ytimg.com/vi/b4Vyma9wPHo/maxresdefault.jpg)\n",
        "\n",
        "**Somewhat deeper look into how Gradient descent works (Source: PyTorchZeroToAll)**\n",
        "\n",
        "Starting somewhere, we take our first step downhill in the direction specified by the negative gradient. Next, we recalculate the negative gradient and take another step in the direction it specifies. This process continues until we get to a point where we can no longer move downhill - a local minimum.\n",
        "\n",
        "### First derivative of the sigmoid function\n",
        "\n",
        "The first derivative of the sigmoid function is given by the following equation:\n",
        "\n",
        "$$g'(z) = g(z)(1 - g(z))$$\n",
        "\n",
        "Complete derivation can be found [here](https://math.stackexchange.com/a/1225116/499458)."
      ]
    },
    {
      "cell_type": "markdown",
      "metadata": {
        "id": "O54XG0ApLOUF",
        "colab_type": "text"
      },
      "source": [
        "### First derivative of the cost function\n",
        "\n",
        "Recall that the cost function was given by the following equation:\n",
        "\n",
        "$$J(W) = \\frac{1}{m}(-y \\log{(h_w)} - (1 - y) \\log{(1 - h_w)})$$\n",
        "\n",
        "Given $g'(z) = g(z)(1 - g(z))$\n",
        "\n",
        "Then:\n",
        "\n",
        "$$\\frac{\\partial{J(W)}}{\\partial{W}} =\\frac{1}{m}(y(1 - h_w) - (1 - y)h_w)x = \\frac{1}{m}(y - h_w)x$$"
      ]
    },
    {
      "cell_type": "markdown",
      "metadata": {
        "id": "VOIkshOtOr4c",
        "colab_type": "text"
      },
      "source": [
        "### Updating our parameters $W$\n",
        "\n",
        "The parameter updating rule we're going to use is defined by:\n",
        "\n",
        "$$W := W - \\alpha (\\frac{1}{m}(y - h_w)x)$$\n",
        "\n",
        "The parameter $\\alpha$ is known as **learning rate**. High learning rate can converge quickly, but risks overshooting the lowest point. Low learning rate allows for confident moves in the direction of the negative gradient. However, it time-consuming so it will take us a lot of time to get to converge.\n",
        "\n",
        "![](https://cdn-images-1.medium.com/max/1600/0*QwE8M4MupSdqA3M4.png)\n",
        "\n",
        "**Big vs Small learning rate (Source: TowardsDataScoemce)**\n"
      ]
    },
    {
      "cell_type": "markdown",
      "metadata": {
        "id": "xYcz3d_kTVkP",
        "colab_type": "text"
      },
      "source": [
        "### The gradient descent algorithm\n",
        "\n",
        "```\n",
        "Repeat until convergence {\n",
        "  1. Calculate gradient average\n",
        "  2. Multiply by learning rate\n",
        "  3. Subtract from weights\n",
        "}\n",
        "```"
      ]
    },
    {
      "cell_type": "code",
      "metadata": {
        "id": "TLDOcJfGeV95",
        "colab_type": "code",
        "colab": {}
      },
      "source": [
        "def predict(X, W):\n",
        "  return sigmoid(np.dot(X, W))\n",
        "      \n",
        "def fit(X, y, n_iter=100000, lr=0.01):\n",
        "\n",
        "  W = np.zeros(X.shape[1])\n",
        "\n",
        "  for i in range(n_iter):\n",
        "      z = np.dot(X, W)\n",
        "      h = sigmoid(z)\n",
        "      gradient = np.dot(X.T, (h - y)) / y.size\n",
        "      W -= lr * gradient\n",
        "  return W"
      ],
      "execution_count": 0,
      "outputs": []
    },
    {
      "cell_type": "code",
      "metadata": {
        "id": "2tY5RhfnnO9P",
        "colab_type": "code",
        "colab": {}
      },
      "source": [
        "class TestGradientDescent(unittest.TestCase):\n",
        "\n",
        "    def test_correct_prediction(self):\n",
        "      global X\n",
        "      global y\n",
        "      if len(X.shape) != 2:        \n",
        "        X = X.reshape(X.shape[0], 1)\n",
        "      w, _ = fit(X, y)\n",
        "      y_hat = predict(X, w).round()\n",
        "      self.assertTrue((y_hat == y).all())"
      ],
      "execution_count": 0,
      "outputs": []
    },
    {
      "cell_type": "code",
      "metadata": {
        "id": "BV7mMdg5nc0C",
        "colab_type": "code",
        "outputId": "d3eece19-0f4e-464c-b46f-7444bbef475e",
        "colab": {
          "base_uri": "https://localhost:8080/",
          "height": 238
        }
      },
      "source": [
        "run_tests()"
      ],
      "execution_count": 0,
      "outputs": [
        {
          "output_type": "stream",
          "text": [
            "E.......\n",
            "======================================================================\n",
            "ERROR: test_correct_prediction (__main__.TestGradientDescent)\n",
            "----------------------------------------------------------------------\n",
            "Traceback (most recent call last):\n",
            "  File \"<ipython-input-15-59757b6f0a6f>\", line 8, in test_correct_prediction\n",
            "    w, _ = fit(X, y)\n",
            "ValueError: not enough values to unpack (expected 2, got 1)\n",
            "\n",
            "----------------------------------------------------------------------\n",
            "Ran 8 tests in 0.888s\n",
            "\n",
            "FAILED (errors=1)\n"
          ],
          "name": "stderr"
        }
      ]
    },
    {
      "cell_type": "markdown",
      "metadata": {
        "id": "xUWBzDZkpdOZ",
        "colab_type": "text"
      },
      "source": [
        "Well, that's not good, after all that hustling we're nowhere near achieving our goal of finding good parameters for our model. But, what went wrong? Let's start by finding whether our algorithm improves over time. We can use our loss metric for that:"
      ]
    },
    {
      "cell_type": "code",
      "metadata": {
        "id": "pLe3grGwqNYx",
        "colab_type": "code",
        "colab": {}
      },
      "source": [
        "def fit(X, y, n_iter=100000, lr=0.01):\n",
        "\n",
        "  W = np.zeros(X.shape[1])\n",
        "  errors = []\n",
        "  for i in range(n_iter):\n",
        "      z = np.dot(X, W)\n",
        "      h = sigmoid(z)\n",
        "      gradient = np.dot(X.T, (h - y)) / y.size\n",
        "      W -= lr * gradient\n",
        "      \n",
        "      if(i % 10000 == 0):       \n",
        "        e = loss(h, y)        \n",
        "        print(f'loss: {e} \\t')\n",
        "        errors.append(e)\n",
        "      \n",
        "  return W, errors"
      ],
      "execution_count": 0,
      "outputs": []
    },
    {
      "cell_type": "code",
      "metadata": {
        "id": "MtUNQ0Krqj_q",
        "colab_type": "code",
        "outputId": "94d53d4d-9088-4f0f-ccc5-7410e8536a2c",
        "colab": {
          "base_uri": "https://localhost:8080/",
          "height": 408
        }
      },
      "source": [
        "run_tests()"
      ],
      "execution_count": 0,
      "outputs": [
        {
          "output_type": "stream",
          "text": [
            "loss: 0.6931471805599453 \t\n",
            "loss: 0.41899283818630056 \t\n",
            "loss: 0.41899283818630056 \t\n",
            "loss: 0.41899283818630056 \t\n",
            "loss: 0.41899283818630056 \t\n",
            "loss: 0.41899283818630056 \t\n",
            "loss: 0.41899283818630056 \t\n",
            "loss: 0.41899283818630056 \t\n",
            "loss: 0.41899283818630056 \t\n"
          ],
          "name": "stdout"
        },
        {
          "output_type": "stream",
          "text": [
            "F......."
          ],
          "name": "stderr"
        },
        {
          "output_type": "stream",
          "text": [
            "loss: 0.41899283818630056 \t\n"
          ],
          "name": "stdout"
        },
        {
          "output_type": "stream",
          "text": [
            "\n",
            "======================================================================\n",
            "FAIL: test_correct_prediction (__main__.TestGradientDescent)\n",
            "----------------------------------------------------------------------\n",
            "Traceback (most recent call last):\n",
            "  File \"<ipython-input-15-59757b6f0a6f>\", line 10, in test_correct_prediction\n",
            "    self.assertTrue((y_hat == y).all())\n",
            "AssertionError: False is not true\n",
            "\n",
            "----------------------------------------------------------------------\n",
            "Ran 8 tests in 0.938s\n",
            "\n",
            "FAILED (failures=1)\n"
          ],
          "name": "stderr"
        }
      ]
    },
    {
      "cell_type": "code",
      "metadata": {
        "id": "gi3ZCFD1znth",
        "colab_type": "code",
        "outputId": "044bc2bb-5969-43cf-a6d1-75e71b4f4f0b",
        "colab": {
          "base_uri": "https://localhost:8080/",
          "height": 681
        }
      },
      "source": [
        "_, errors = fit(X, y)\n",
        "plt.plot(np.arange(len(errors)), errors)\n",
        "plt.xlabel(\"iteration^10000\")\n",
        "plt.ylabel(\"error\")\n",
        "plt.ylim(0, 1)\n",
        "plt.show()"
      ],
      "execution_count": 0,
      "outputs": [
        {
          "output_type": "stream",
          "text": [
            "loss: 0.6931471805599453 \t\n",
            "loss: 0.41899283818630056 \t\n",
            "loss: 0.41899283818630056 \t\n",
            "loss: 0.41899283818630056 \t\n",
            "loss: 0.41899283818630056 \t\n",
            "loss: 0.41899283818630056 \t\n",
            "loss: 0.41899283818630056 \t\n",
            "loss: 0.41899283818630056 \t\n",
            "loss: 0.41899283818630056 \t\n",
            "loss: 0.41899283818630056 \t\n"
          ],
          "name": "stdout"
        },
        {
          "output_type": "display_data",
          "data": {
            "image/png": "[encoded data removed]",
            "text/plain": [
              "<Figure size 1008x576 with 1 Axes>"
            ]
          },
          "metadata": {
            "tags": []
          }
        }
      ]
    },
    {
      "cell_type": "markdown",
      "metadata": {
        "id": "l4ej4TD5swd0",
        "colab_type": "text"
      },
      "source": [
        "Good, we found a possible cause for our problem. Our loss doesn't get low enough, in other words, our algorithm gets stuck at some point that is not a good enough minimum for us. How can we fix this? Perhaps, try out different learning rate or initializing our parameter with a different value?"
      ]
    },
    {
      "cell_type": "code",
      "metadata": {
        "id": "ODP9jfo7s1i_",
        "colab_type": "code",
        "colab": {}
      },
      "source": [
        "def fit(X, y, n_iter=100000, lr=0.001):\n",
        "\n",
        "  W = np.zeros(X.shape[1])\n",
        "  \n",
        "  errors = []\n",
        "\n",
        "  for i in range(n_iter):\n",
        "      z = np.dot(X, W)\n",
        "      h = sigmoid(z)\n",
        "      gradient = np.dot(X.T, (h - y)) / y.size\n",
        "      W -= lr * gradient\n",
        "           \n",
        "      if(i % 10000 == 0):\n",
        "        e = loss(h, y)\n",
        "        print(f'loss: {e} \\t')\n",
        "        errors.append(e)\n",
        "      \n",
        "  return W, errors"
      ],
      "execution_count": 0,
      "outputs": []
    },
    {
      "cell_type": "code",
      "metadata": {
        "id": "X0lW0sYLs3ua",
        "colab_type": "code",
        "outputId": "c87799e9-9ca9-4cfb-9874-817a0e82f1f1",
        "colab": {
          "base_uri": "https://localhost:8080/",
          "height": 408
        }
      },
      "source": [
        "run_tests()"
      ],
      "execution_count": 0,
      "outputs": [
        {
          "output_type": "stream",
          "text": [
            "loss: 0.6931471805599453 \t\n",
            "loss: 0.41899283818630056 \t\n",
            "loss: 0.41899283818630056 \t\n",
            "loss: 0.41899283818630056 \t\n",
            "loss: 0.41899283818630056 \t\n",
            "loss: 0.41899283818630056 \t\n",
            "loss: 0.41899283818630056 \t\n",
            "loss: 0.41899283818630056 \t\n",
            "loss: 0.41899283818630056 \t\n"
          ],
          "name": "stdout"
        },
        {
          "output_type": "stream",
          "text": [
            "F......."
          ],
          "name": "stderr"
        },
        {
          "output_type": "stream",
          "text": [
            "loss: 0.41899283818630056 \t\n"
          ],
          "name": "stdout"
        },
        {
          "output_type": "stream",
          "text": [
            "\n",
            "======================================================================\n",
            "FAIL: test_correct_prediction (__main__.TestGradientDescent)\n",
            "----------------------------------------------------------------------\n",
            "Traceback (most recent call last):\n",
            "  File \"<ipython-input-15-59757b6f0a6f>\", line 10, in test_correct_prediction\n",
            "    self.assertTrue((y_hat == y).all())\n",
            "AssertionError: False is not true\n",
            "\n",
            "----------------------------------------------------------------------\n",
            "Ran 8 tests in 0.903s\n",
            "\n",
            "FAILED (failures=1)\n"
          ],
          "name": "stderr"
        }
      ]
    },
    {
      "cell_type": "markdown",
      "metadata": {
        "id": "yAeOAz2VtGM4",
        "colab_type": "text"
      },
      "source": [
        "Hmm, how about adding one more parameter for our model to find/learn?"
      ]
    },
    {
      "cell_type": "code",
      "metadata": {
        "id": "vS0aN8ZHfitp",
        "colab_type": "code",
        "colab": {}
      },
      "source": [
        "def add_intercept(X):\n",
        "  intercept = np.ones((X.shape[0], 1))\n",
        "  return np.concatenate((intercept, X), axis=1)\n",
        "\n",
        "def predict(X, W):\n",
        "  X = add_intercept(X)\n",
        "  return sigmoid(np.dot(X, W))\n",
        "      \n",
        "def fit(X, y, n_iter=100000, lr=0.01):\n",
        "  \n",
        "  X = add_intercept(X)\n",
        "  W = np.zeros(X.shape[1])\n",
        "  \n",
        "  errors = []\n",
        "\n",
        "  for i in range(n_iter):\n",
        "      z = np.dot(X, W)\n",
        "      h = sigmoid(z)\n",
        "      gradient = np.dot(X.T, (h - y)) / y.size\n",
        "      W -= lr * gradient\n",
        "      \n",
        "      if(i % 10000 == 0):       \n",
        "        e = loss(h, y)\n",
        "        errors.append(e)\n",
        "  return W, errors"
      ],
      "execution_count": 0,
      "outputs": []
    },
    {
      "cell_type": "code",
      "metadata": {
        "id": "aWb1nxIrtldD",
        "colab_type": "code",
        "outputId": "8e7ba18a-c019-49f0-c408-72c7d5738ae3",
        "colab": {
          "base_uri": "https://localhost:8080/",
          "height": 102
        }
      },
      "source": [
        "run_tests()"
      ],
      "execution_count": 0,
      "outputs": [
        {
          "output_type": "stream",
          "text": [
            "........\n",
            "----------------------------------------------------------------------\n",
            "Ran 8 tests in 0.837s\n",
            "\n",
            "OK\n"
          ],
          "name": "stderr"
        }
      ]
    },
    {
      "cell_type": "code",
      "metadata": {
        "id": "_VlYbo6x1Q04",
        "colab_type": "code",
        "outputId": "7c9fad66-4af6-4278-bf8f-6c939eeae44b",
        "colab": {
          "base_uri": "https://localhost:8080/",
          "height": 511
        }
      },
      "source": [
        "_, errors = fit(X, y)\n",
        "plt.plot(np.arange(len(errors)), errors)\n",
        "plt.xlabel(\"iteration^10000\")\n",
        "plt.ylabel(\"error\")\n",
        "plt.ylim(0, 1)\n",
        "plt.show();"
      ],
      "execution_count": 0,
      "outputs": [
        {
          "output_type": "display_data",
          "data": {
            "image/png": "[encoded data removed]",
            "text/plain": [
              "<Figure size 1008x576 with 1 Axes>"
            ]
          },
          "metadata": {
            "tags": []
          }
        }
      ]
    },
    {
      "cell_type": "markdown",
      "metadata": {
        "id": "3lMGWRXJ-YP5",
        "colab_type": "text"
      },
      "source": [
        "### Hiding the complexity of the algorithm\n",
        "\n",
        "Knowing all of the details of the inner workings of the Gradient descent is good, but when solving problems in the wild, we might be hard pressed for time. In those situations, a simple & easy to use interface for fitting a Logistic Regression model might save us a lot of time. So, let's build one!\n",
        "\n",
        "But first, let's write some tests:"
      ]
    },
    {
      "cell_type": "code",
      "metadata": {
        "id": "ZNiUHh8_iNbx",
        "colab_type": "code",
        "colab": {}
      },
      "source": [
        "class TestLogisticRegressor(unittest.TestCase):\n",
        "\n",
        "    def test_correct_prediction(self):\n",
        "      global X\n",
        "      global y\n",
        "      X = X.reshape(X.shape[0], 1)\n",
        "      clf = LogisticRegressor()\n",
        "      y_hat = clf.fit(X, y).predict(X)\n",
        "      self.assertTrue((y_hat == y).all())"
      ],
      "execution_count": 0,
      "outputs": []
    },
    {
      "cell_type": "code",
      "metadata": {
        "id": "XeDkAWxDiQo4",
        "colab_type": "code",
        "outputId": "58adcf12-bb4f-4601-84a8-3fc722fa0d40",
        "colab": {
          "base_uri": "https://localhost:8080/",
          "height": 238
        }
      },
      "source": [
        "run_tests()"
      ],
      "execution_count": 0,
      "outputs": [
        {
          "output_type": "stream",
          "text": [
            ".E.......\n",
            "======================================================================\n",
            "ERROR: test_correct_prediction (__main__.TestLogisticRegressor)\n",
            "----------------------------------------------------------------------\n",
            "Traceback (most recent call last):\n",
            "  File \"<ipython-input-25-b3cbfe737800>\", line 7, in test_correct_prediction\n",
            "    clf = LogisticRegressor()\n",
            "NameError: name 'LogisticRegressor' is not defined\n",
            "\n",
            "----------------------------------------------------------------------\n",
            "Ran 9 tests in 0.858s\n",
            "\n",
            "FAILED (errors=1)\n"
          ],
          "name": "stderr"
        }
      ]
    },
    {
      "cell_type": "code",
      "metadata": {
        "id": "oidfenvBGiy8",
        "colab_type": "code",
        "colab": {}
      },
      "source": [
        "class LogisticRegressor:\n",
        "  \n",
        "  def _add_intercept(self, X):\n",
        "    intercept = np.ones((X.shape[0], 1))\n",
        "    return np.concatenate((intercept, X), axis=1)\n",
        "\n",
        "  def predict_probs(self, X):\n",
        "    X = self._add_intercept(X)\n",
        "    return sigmoid(np.dot(X, self.W))\n",
        "  \n",
        "  def predict(self, X):\n",
        "    return self.predict_probs(X).round()\n",
        "      \n",
        "  def fit(self, X, y, n_iter=100000, lr=0.01):\n",
        "\n",
        "    X = self._add_intercept(X)\n",
        "    self.W = np.zeros(X.shape[1])\n",
        "\n",
        "    for i in range(n_iter):\n",
        "        z = np.dot(X, self.W)\n",
        "        h = sigmoid(z)\n",
        "        gradient = np.dot(X.T, (h - y)) / y.size\n",
        "        self.W -= lr * gradient\n",
        "    return self"
      ],
      "execution_count": 0,
      "outputs": []
    },
    {
      "cell_type": "code",
      "metadata": {
        "id": "R3hsL4LCBcTm",
        "colab_type": "code",
        "outputId": "dfeea495-21da-4503-c3f9-248d885027a6",
        "colab": {
          "base_uri": "https://localhost:8080/",
          "height": 102
        }
      },
      "source": [
        "run_tests()"
      ],
      "execution_count": 0,
      "outputs": [
        {
          "output_type": "stream",
          "text": [
            ".........\n",
            "----------------------------------------------------------------------\n",
            "Ran 9 tests in 1.695s\n",
            "\n",
            "OK\n"
          ],
          "name": "stderr"
        }
      ]
    },
    {
      "cell_type": "markdown",
      "metadata": {
        "id": "SbaBivt46Oxf",
        "colab_type": "text"
      },
      "source": [
        "## Using our Regressor to decide who should receive discount codes\n",
        "\n",
        "Now that you're done with the \"hard\" part let's use the model to predict whether or not we should send discount codes."
      ]
    },
    {
      "cell_type": "code",
      "metadata": {
        "id": "FjUXzun46Sve",
        "colab_type": "code",
        "colab": {}
      },
      "source": [
        "X_test = np.array([10, 250])\n",
        "X_test = X_test.reshape(X_test.shape[0], 1)\n",
        "y_test = LogisticRegressor().fit(X, y).predict(X_test)"
      ],
      "execution_count": 0,
      "outputs": []
    },
    {
      "cell_type": "code",
      "metadata": {
        "id": "dUz__0al7uQV",
        "colab_type": "code",
        "outputId": "3f929d21-8296-402f-f5ac-77616b3c543a",
        "colab": {
          "base_uri": "https://localhost:8080/",
          "height": 34
        }
      },
      "source": [
        "y_test"
      ],
      "execution_count": 0,
      "outputs": [
        {
          "output_type": "execute_result",
          "data": {
            "text/plain": [
              "array([1., 0.])"
            ]
          },
          "metadata": {
            "tags": []
          },
          "execution_count": 32
        }
      ]
    }
  ]
}
